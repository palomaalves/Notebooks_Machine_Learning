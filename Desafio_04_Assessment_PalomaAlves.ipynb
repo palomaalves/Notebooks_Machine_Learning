{
  "cells": [
    {
      "cell_type": "markdown",
      "metadata": {
        "id": "view-in-github",
        "colab_type": "text"
      },
      "source": [
        "<a href=\"https://colab.research.google.com/github/palomaalves/Notebooks_Machine_Learning/blob/main/Desafio_04_Assessment_PalomaAlves.ipynb\" target=\"_parent\"><img src=\"https://colab.research.google.com/assets/colab-badge.svg\" alt=\"Open In Colab\"/></a>"
      ]
    },
    {
      "cell_type": "markdown",
      "metadata": {
        "id": "IvVymHNmpcWu"
      },
      "source": [
        "<center><a href=\"https://www.nvidia.com/dli\"> <img src=\"https://drive.google.com/uc?id=1J3bpGyJcz-7uOFkUNhvOBiReBCk-sUwR\" width=\"200\" </a></center>"
      ]
    },
    {
      "cell_type": "markdown",
      "metadata": {
        "id": "RaewxpBHpcW2"
      },
      "source": [
        "# Assessment"
      ]
    },
    {
      "cell_type": "markdown",
      "metadata": {
        "id": "WghLxVBvpcW4"
      },
      "source": [
        "In this assessment, you will train a new model that is able to recognize fresh and rotten fruit. You will need to get the model to a validation accuracy of `92%` in order to pass the assessment, though we challenge you to do even better if you can. You will have the use the skills that you learned in the previous exercises. Specifically, we suggest using some combination of transfer learning, data augmentation, and fine tuning. Once you have trained the model to be at least 92% accurate on the validation dataset, save your model, and then assess its accuracy. Let's get started!"
      ]
    },
    {
      "cell_type": "code",
      "execution_count": null,
      "metadata": {
        "colab": {
          "base_uri": "https://localhost:8080/"
        },
        "id": "SF41JqbqV88U",
        "outputId": "b13a55dc-e048-4a81-b47b-3fc65d02df95"
      },
      "outputs": [
        {
          "output_type": "stream",
          "name": "stdout",
          "text": [
            "Mounted at /content/gdrive\n"
          ]
        }
      ],
      "source": [
        "from google.colab import drive\n",
        "drive.mount('/content/gdrive', force_remount=True)"
      ]
    },
    {
      "cell_type": "code",
      "execution_count": null,
      "metadata": {
        "colab": {
          "base_uri": "https://localhost:8080/"
        },
        "id": "9qxqJ3HPWIzb",
        "outputId": "7c75b5b5-d69f-43ca-efb5-21e160009dbf"
      },
      "outputs": [
        {
          "output_type": "stream",
          "name": "stdout",
          "text": [
            "/content/gdrive/MyDrive/Fundamentals_Deep_Learning\n",
            "001_tensorflow.ipynb  03_asl_cnn.ipynb\t\t  05b_presidential_doggy_door.ipynb  images\n",
            "00_jupyterlab.ipynb   04a_asl_augmentation.ipynb  06_headline_generator.ipynb\n",
            "01_mnist.ipynb\t      04b_asl_predictions.ipynb   asl_model\n",
            "02_asl.ipynb\t      05a_doggy_door.ipynb\t  data\n"
          ]
        }
      ],
      "source": [
        "%cd /content/gdrive/MyDrive/Fundamentals_Deep_Learning\n",
        "\n",
        "!ls"
      ]
    },
    {
      "cell_type": "markdown",
      "metadata": {
        "id": "ej6AIe1mpcW5"
      },
      "source": [
        "## The Dataset"
      ]
    },
    {
      "cell_type": "markdown",
      "metadata": {
        "id": "2yik2aH5pcW6"
      },
      "source": [
        "In this exercise, you will train a model to recognize fresh and rotten fruits. The dataset comes from [Kaggle](https://www.kaggle.com/sriramr/fruits-fresh-and-rotten-for-classification), a great place to go if you're interested in starting a project after this class. The dataset structure is in the `data/fruits` folder. There are 6 categories of fruits: fresh apples, fresh oranges, fresh bananas, rotten apples, rotten oranges, and rotten bananas. This will mean that your model will require an output layer of 6 neurons to do the categorization successfully. You'll also need to compile the model with `categorical_crossentropy`, as we have more than two categories."
      ]
    },
    {
      "cell_type": "markdown",
      "metadata": {
        "id": "lc3UZq9UpcW7"
      },
      "source": [
        "<img src=\"https://drive.google.com/uc?id=1ryuTigL-jyigpICE-veqLZvPz1DCg4ml\" style=\"width: 600px;\">"
      ]
    },
    {
      "cell_type": "markdown",
      "metadata": {
        "id": "IdVsMEf-pcW7"
      },
      "source": [
        "## Load ImageNet Base Model"
      ]
    },
    {
      "cell_type": "markdown",
      "metadata": {
        "id": "SC0zxhU-pcW9"
      },
      "source": [
        "We encourage you to start with a model pretrained on ImageNet. Load the model with the correct weights, set an input shape, and choose to remove the last layers of the model. Remember that images have three dimensions: a height, and width, and a number of channels. Because these pictures are in color, there will be three channels for red, green, and blue. We've filled in the input shape for you. This cannot be changed or the assessment will fail. If you need a reference for setting up the pretrained model, please take a look at [notebook 05b] where we implemented transfer learning."
      ]
    },
    {
      "cell_type": "code",
      "execution_count": null,
      "metadata": {
        "id": "Z79YZKIfpcW_",
        "colab": {
          "base_uri": "https://localhost:8080/"
        },
        "outputId": "b873b9e6-de86-4110-c862-daaf034cb71c"
      },
      "outputs": [
        {
          "output_type": "stream",
          "name": "stdout",
          "text": [
            "Downloading data from https://storage.googleapis.com/tensorflow/keras-applications/vgg16/vgg16_weights_tf_dim_ordering_tf_kernels_notop.h5\n",
            "58889256/58889256 [==============================] - 2s 0us/step\n"
          ]
        }
      ],
      "source": [
        "from tensorflow import keras\n",
        "\n",
        "base_model = keras.applications.VGG16(\n",
        "    weights='imagenet',\n",
        "    input_shape=(224, 224, 3),\n",
        "    include_top=False)"
      ]
    },
    {
      "cell_type": "markdown",
      "metadata": {
        "id": "8LXIimk2pcXC"
      },
      "source": [
        "## Freeze Base Model"
      ]
    },
    {
      "cell_type": "markdown",
      "metadata": {
        "id": "Fr67-l4jpcXD"
      },
      "source": [
        "Next, we suggest freezing the base model, as done in [notebook 05b]. This is done so that all the learning from the ImageNet dataset does not get destroyed in the initial training."
      ]
    },
    {
      "cell_type": "code",
      "execution_count": null,
      "metadata": {
        "id": "xsmX_xqNpcXE"
      },
      "outputs": [],
      "source": [
        "# Freeze base model\n",
        "base_model.trainable = False"
      ]
    },
    {
      "cell_type": "code",
      "source": [
        "base_model.summary()"
      ],
      "metadata": {
        "colab": {
          "base_uri": "https://localhost:8080/"
        },
        "id": "tMAMmrSLCk5e",
        "outputId": "80045b6e-a4da-48b8-ecb0-ddf211e194fd"
      },
      "execution_count": null,
      "outputs": [
        {
          "output_type": "stream",
          "name": "stdout",
          "text": [
            "Model: \"vgg16\"\n",
            "_________________________________________________________________\n",
            " Layer (type)                Output Shape              Param #   \n",
            "=================================================================\n",
            " input_1 (InputLayer)        [(None, 224, 224, 3)]     0         \n",
            "                                                                 \n",
            " block1_conv1 (Conv2D)       (None, 224, 224, 64)      1792      \n",
            "                                                                 \n",
            " block1_conv2 (Conv2D)       (None, 224, 224, 64)      36928     \n",
            "                                                                 \n",
            " block1_pool (MaxPooling2D)  (None, 112, 112, 64)      0         \n",
            "                                                                 \n",
            " block2_conv1 (Conv2D)       (None, 112, 112, 128)     73856     \n",
            "                                                                 \n",
            " block2_conv2 (Conv2D)       (None, 112, 112, 128)     147584    \n",
            "                                                                 \n",
            " block2_pool (MaxPooling2D)  (None, 56, 56, 128)       0         \n",
            "                                                                 \n",
            " block3_conv1 (Conv2D)       (None, 56, 56, 256)       295168    \n",
            "                                                                 \n",
            " block3_conv2 (Conv2D)       (None, 56, 56, 256)       590080    \n",
            "                                                                 \n",
            " block3_conv3 (Conv2D)       (None, 56, 56, 256)       590080    \n",
            "                                                                 \n",
            " block3_pool (MaxPooling2D)  (None, 28, 28, 256)       0         \n",
            "                                                                 \n",
            " block4_conv1 (Conv2D)       (None, 28, 28, 512)       1180160   \n",
            "                                                                 \n",
            " block4_conv2 (Conv2D)       (None, 28, 28, 512)       2359808   \n",
            "                                                                 \n",
            " block4_conv3 (Conv2D)       (None, 28, 28, 512)       2359808   \n",
            "                                                                 \n",
            " block4_pool (MaxPooling2D)  (None, 14, 14, 512)       0         \n",
            "                                                                 \n",
            " block5_conv1 (Conv2D)       (None, 14, 14, 512)       2359808   \n",
            "                                                                 \n",
            " block5_conv2 (Conv2D)       (None, 14, 14, 512)       2359808   \n",
            "                                                                 \n",
            " block5_conv3 (Conv2D)       (None, 14, 14, 512)       2359808   \n",
            "                                                                 \n",
            " block5_pool (MaxPooling2D)  (None, 7, 7, 512)         0         \n",
            "                                                                 \n",
            "=================================================================\n",
            "Total params: 14714688 (56.13 MB)\n",
            "Trainable params: 0 (0.00 Byte)\n",
            "Non-trainable params: 14714688 (56.13 MB)\n",
            "_________________________________________________________________\n"
          ]
        }
      ]
    },
    {
      "cell_type": "markdown",
      "metadata": {
        "id": "jVp1MlWPpcXE"
      },
      "source": [
        "## Add Layers to Model"
      ]
    },
    {
      "cell_type": "markdown",
      "metadata": {
        "id": "OYQVUCPKpcXF"
      },
      "source": [
        "Now it's time to add layers to the pretrained model. [Notebook 05b] can be used as a guide. Pay close attention to the last dense layer and make sure it has the correct number of neurons to classify the different types of fruit."
      ]
    },
    {
      "cell_type": "code",
      "execution_count": null,
      "metadata": {
        "id": "d1GfrbwEpcXF"
      },
      "outputs": [],
      "source": [
        "# Create inputs with correct shape\n",
        "inputs = keras.Input(shape=(224,224,3))\n",
        "\n",
        "x = base_model(inputs, training=False)\n",
        "\n",
        "# Add pooling layer or flatten layer\n",
        "x = keras.layers.GlobalAveragePooling2D()(x)\n",
        "\n",
        "# Add final dense layer\n",
        "outputs = keras.layers.Dense(6, activation = 'softmax')(x)\n",
        "\n",
        "# Combine inputs and outputs to create model\n",
        "model = keras.Model(inputs, outputs)"
      ]
    },
    {
      "cell_type": "code",
      "execution_count": null,
      "metadata": {
        "colab": {
          "base_uri": "https://localhost:8080/"
        },
        "id": "9IDpffLnpcXG",
        "outputId": "45a33bb0-697d-49e8-c225-a102885ff2d1"
      },
      "outputs": [
        {
          "output_type": "stream",
          "name": "stdout",
          "text": [
            "Model: \"model\"\n",
            "_________________________________________________________________\n",
            " Layer (type)                Output Shape              Param #   \n",
            "=================================================================\n",
            " input_2 (InputLayer)        [(None, 224, 224, 3)]     0         \n",
            "                                                                 \n",
            " vgg16 (Functional)          (None, 7, 7, 512)         14714688  \n",
            "                                                                 \n",
            " global_average_pooling2d (  (None, 512)               0         \n",
            " GlobalAveragePooling2D)                                         \n",
            "                                                                 \n",
            " dense (Dense)               (None, 6)                 3078      \n",
            "                                                                 \n",
            "=================================================================\n",
            "Total params: 14717766 (56.14 MB)\n",
            "Trainable params: 3078 (12.02 KB)\n",
            "Non-trainable params: 14714688 (56.13 MB)\n",
            "_________________________________________________________________\n"
          ]
        }
      ],
      "source": [
        "model.summary()"
      ]
    },
    {
      "cell_type": "markdown",
      "metadata": {
        "id": "iGOO8BgwpcXH"
      },
      "source": [
        "## Compile Model"
      ]
    },
    {
      "cell_type": "markdown",
      "metadata": {
        "id": "12HgOZ3jpcXH"
      },
      "source": [
        "Now it's time to compile the model with loss and metrics options. Remember that we're training on a number of different categories, rather than a binary classification problem."
      ]
    },
    {
      "cell_type": "code",
      "execution_count": null,
      "metadata": {
        "id": "Obg2LguRpcXH"
      },
      "outputs": [],
      "source": [
        "model.compile(loss = keras.losses.CategoricalCrossentropy(from_logits=True), metrics = [keras.metrics.CategoricalAccuracy()])"
      ]
    },
    {
      "cell_type": "markdown",
      "metadata": {
        "id": "Bg1DPxaepcXI"
      },
      "source": [
        "## Augment the Data"
      ]
    },
    {
      "cell_type": "markdown",
      "metadata": {
        "id": "yqf6TX6epcXJ"
      },
      "source": [
        "If you'd like, try to augment the data to improve the dataset. Feel free to look at [notebook 04a] and [notebook 05b] for augmentation examples. There is also documentation for the [Keras ImageDataGenerator class](https://keras.io/api/preprocessing/image/#imagedatagenerator-class). This step is optional, but it may be helpful to get to 92% accuracy."
      ]
    },
    {
      "cell_type": "code",
      "execution_count": null,
      "metadata": {
        "id": "Y7AuJYVKpcXJ"
      },
      "outputs": [],
      "source": [
        "from tensorflow.keras.preprocessing.image import ImageDataGenerator\n",
        "\n",
        "datagen_train = ImageDataGenerator(\n",
        "    samplewise_center=True,\n",
        "    rotation_range=10,\n",
        "    zoom_range=0.1,\n",
        "    width_shift_range=0.1,\n",
        "    height_shift_range=0.1,\n",
        "    horizontal_flip=True,\n",
        "    vertical_flip=False\n",
        ")\n",
        "datagen_valid = ImageDataGenerator(samplewise_center=True)"
      ]
    },
    {
      "cell_type": "markdown",
      "metadata": {
        "id": "vhnrPCMRpcXK"
      },
      "source": [
        "## Load Dataset"
      ]
    },
    {
      "cell_type": "markdown",
      "metadata": {
        "id": "H9F0EIq-pcXK"
      },
      "source": [
        "Now it's time to load the train and validation datasets. Pick the right folders, as well as the right `target_size` of the images (it needs to match the height and width input of the model you've created). For a reference, check out [notebook 05b]."
      ]
    },
    {
      "cell_type": "code",
      "execution_count": null,
      "metadata": {
        "colab": {
          "base_uri": "https://localhost:8080/"
        },
        "id": "wxtPHBo_pcXL",
        "outputId": "ebdacf88-418b-4961-d25e-9cf6773f5441"
      },
      "outputs": [
        {
          "output_type": "stream",
          "name": "stdout",
          "text": [
            "Found 1182 images belonging to 6 classes.\n",
            "Found 329 images belonging to 6 classes.\n"
          ]
        }
      ],
      "source": [
        "# load and iterate training dataset\n",
        "train_it = datagen_train.flow_from_directory(\n",
        "    'data/fruits/train',\n",
        "    target_size=(224,224),\n",
        "    color_mode=\"rgb\",\n",
        "    class_mode=\"categorical\",\n",
        ")\n",
        "# load and iterate validation dataset\n",
        "valid_it = datagen_valid.flow_from_directory(\n",
        "    'data/fruits/valid',\n",
        "    target_size=(224,224),\n",
        "    color_mode=\"rgb\",\n",
        "    class_mode=\"categorical\",\n",
        ")"
      ]
    },
    {
      "cell_type": "markdown",
      "metadata": {
        "id": "SkBc3yrJpcXL"
      },
      "source": [
        "## Train the Model"
      ]
    },
    {
      "cell_type": "markdown",
      "metadata": {
        "id": "CxTDBdWkpcXL"
      },
      "source": [
        "Time to train the model! Pass the `train` and `valid` iterators into the `fit` function, as well as setting the desired number of epochs."
      ]
    },
    {
      "cell_type": "code",
      "execution_count": null,
      "metadata": {
        "id": "SYTvl9RypcXM",
        "colab": {
          "base_uri": "https://localhost:8080/"
        },
        "outputId": "6339affe-8d25-44eb-a371-f983857d77cc"
      },
      "outputs": [
        {
          "output_type": "stream",
          "name": "stdout",
          "text": [
            "Epoch 1/10\n"
          ]
        },
        {
          "output_type": "stream",
          "name": "stderr",
          "text": [
            "/usr/local/lib/python3.10/dist-packages/keras/src/backend.py:5575: UserWarning: \"`categorical_crossentropy` received `from_logits=True`, but the `output` argument was produced by a Softmax activation and thus does not represent logits. Was this intended?\n",
            "  output, from_logits = _get_logits(\n"
          ]
        },
        {
          "output_type": "stream",
          "name": "stdout",
          "text": [
            "36/36 [==============================] - 772s 21s/step - loss: 1.9869 - categorical_accuracy: 0.5169 - val_loss: 1.1370 - val_categorical_accuracy: 0.6900\n",
            "Epoch 2/10\n",
            "36/36 [==============================] - 33s 893ms/step - loss: 0.6256 - categorical_accuracy: 0.7995 - val_loss: 0.5891 - val_categorical_accuracy: 0.8237\n",
            "Epoch 3/10\n",
            "36/36 [==============================] - 35s 955ms/step - loss: 0.3293 - categorical_accuracy: 0.8816 - val_loss: 0.3884 - val_categorical_accuracy: 0.8784\n",
            "Epoch 4/10\n",
            "36/36 [==============================] - 30s 813ms/step - loss: 0.2014 - categorical_accuracy: 0.9289 - val_loss: 0.3447 - val_categorical_accuracy: 0.8845\n",
            "Epoch 5/10\n",
            "36/36 [==============================] - 29s 784ms/step - loss: 0.1526 - categorical_accuracy: 0.9459 - val_loss: 0.2108 - val_categorical_accuracy: 0.9271\n",
            "Epoch 6/10\n",
            "36/36 [==============================] - 29s 777ms/step - loss: 0.1237 - categorical_accuracy: 0.9602 - val_loss: 0.1838 - val_categorical_accuracy: 0.9483\n",
            "Epoch 7/10\n",
            "36/36 [==============================] - 29s 761ms/step - loss: 0.0888 - categorical_accuracy: 0.9679 - val_loss: 0.1874 - val_categorical_accuracy: 0.9453\n",
            "Epoch 8/10\n",
            "36/36 [==============================] - 29s 779ms/step - loss: 0.0733 - categorical_accuracy: 0.9772 - val_loss: 0.2734 - val_categorical_accuracy: 0.9240\n",
            "Epoch 9/10\n",
            "36/36 [==============================] - 28s 764ms/step - loss: 0.0682 - categorical_accuracy: 0.9712 - val_loss: 0.1734 - val_categorical_accuracy: 0.9483\n",
            "Epoch 10/10\n",
            "36/36 [==============================] - 28s 760ms/step - loss: 0.0583 - categorical_accuracy: 0.9797 - val_loss: 0.1860 - val_categorical_accuracy: 0.9453\n"
          ]
        },
        {
          "output_type": "execute_result",
          "data": {
            "text/plain": [
              "<keras.src.callbacks.History at 0x7b5e8734ef50>"
            ]
          },
          "metadata": {},
          "execution_count": 13
        }
      ],
      "source": [
        "model.fit(train_it,\n",
        "          validation_data=valid_it,\n",
        "          steps_per_epoch=train_it.samples/train_it.batch_size,\n",
        "          validation_steps=valid_it.samples/valid_it.batch_size,\n",
        "          epochs=10)"
      ]
    },
    {
      "cell_type": "markdown",
      "metadata": {
        "id": "KjGG7Xr0pcXM"
      },
      "source": [
        "## Unfreeze Model for Fine Tuning"
      ]
    },
    {
      "cell_type": "markdown",
      "metadata": {
        "id": "8KtdYVHqpcXN"
      },
      "source": [
        "If you have reached 92% validation accuracy already, this next step is optional. If not, we suggest fine tuning the model with a very low learning rate."
      ]
    },
    {
      "cell_type": "code",
      "execution_count": null,
      "metadata": {
        "id": "nLwLcUTwpcXN"
      },
      "outputs": [],
      "source": [
        "# Unfreeze the base model\n",
        "base_model.trainable = True\n",
        "\n",
        "# Compile the model with a low learning rate\n",
        "model.compile(optimizer=keras.optimizers.RMSprop(learning_rate = .00001),\n",
        "              loss = keras.losses.CategoricalCrossentropy(from_logits=True) , metrics = [keras.metrics.CategoricalAccuracy()])"
      ]
    },
    {
      "cell_type": "code",
      "execution_count": null,
      "metadata": {
        "id": "Myri7w8-pcXN",
        "colab": {
          "base_uri": "https://localhost:8080/"
        },
        "outputId": "e39b7d2e-5950-499b-b468-635be5e4a42c"
      },
      "outputs": [
        {
          "output_type": "stream",
          "name": "stdout",
          "text": [
            "Epoch 1/15\n"
          ]
        },
        {
          "output_type": "stream",
          "name": "stderr",
          "text": [
            "/usr/local/lib/python3.10/dist-packages/keras/src/backend.py:5575: UserWarning: \"`categorical_crossentropy` received `from_logits=True`, but the `output` argument was produced by a Softmax activation and thus does not represent logits. Was this intended?\n",
            "  output, from_logits = _get_logits(\n"
          ]
        },
        {
          "output_type": "stream",
          "name": "stdout",
          "text": [
            "36/36 [==============================] - 58s 1s/step - loss: 0.0986 - categorical_accuracy: 0.9687 - val_loss: 0.0924 - val_categorical_accuracy: 0.9696\n",
            "Epoch 2/15\n",
            "36/36 [==============================] - 31s 848ms/step - loss: 0.0362 - categorical_accuracy: 0.9898 - val_loss: 0.1752 - val_categorical_accuracy: 0.9544\n",
            "Epoch 3/15\n",
            "36/36 [==============================] - 32s 852ms/step - loss: 0.0234 - categorical_accuracy: 0.9907 - val_loss: 0.3302 - val_categorical_accuracy: 0.9271\n",
            "Epoch 4/15\n",
            "36/36 [==============================] - 34s 904ms/step - loss: 0.0116 - categorical_accuracy: 0.9975 - val_loss: 0.1043 - val_categorical_accuracy: 0.9818\n",
            "Epoch 5/15\n",
            "36/36 [==============================] - 34s 912ms/step - loss: 0.0238 - categorical_accuracy: 0.9958 - val_loss: 0.2105 - val_categorical_accuracy: 0.9605\n",
            "Epoch 6/15\n",
            "36/36 [==============================] - 31s 848ms/step - loss: 0.0060 - categorical_accuracy: 0.9983 - val_loss: 0.1799 - val_categorical_accuracy: 0.9666\n",
            "Epoch 7/15\n",
            "36/36 [==============================] - 32s 858ms/step - loss: 0.0086 - categorical_accuracy: 0.9975 - val_loss: 0.1567 - val_categorical_accuracy: 0.9696\n",
            "Epoch 8/15\n",
            "36/36 [==============================] - 32s 859ms/step - loss: 0.0172 - categorical_accuracy: 0.9966 - val_loss: 0.1425 - val_categorical_accuracy: 0.9787\n",
            "Epoch 9/15\n",
            "36/36 [==============================] - 34s 917ms/step - loss: 5.8236e-04 - categorical_accuracy: 1.0000 - val_loss: 0.0978 - val_categorical_accuracy: 0.9848\n",
            "Epoch 10/15\n",
            "36/36 [==============================] - 33s 891ms/step - loss: 1.0158e-04 - categorical_accuracy: 1.0000 - val_loss: 0.1368 - val_categorical_accuracy: 0.9757\n",
            "Epoch 11/15\n",
            "36/36 [==============================] - 32s 855ms/step - loss: 2.1725e-04 - categorical_accuracy: 1.0000 - val_loss: 0.1176 - val_categorical_accuracy: 0.9757\n",
            "Epoch 12/15\n",
            "36/36 [==============================] - 32s 853ms/step - loss: 3.1145e-04 - categorical_accuracy: 1.0000 - val_loss: 0.1715 - val_categorical_accuracy: 0.9757\n",
            "Epoch 13/15\n",
            "36/36 [==============================] - 32s 852ms/step - loss: 0.0038 - categorical_accuracy: 0.9992 - val_loss: 0.1406 - val_categorical_accuracy: 0.9726\n",
            "Epoch 14/15\n",
            "36/36 [==============================] - 31s 849ms/step - loss: 0.0020 - categorical_accuracy: 0.9992 - val_loss: 1.0468 - val_categorical_accuracy: 0.8906\n",
            "Epoch 15/15\n",
            "36/36 [==============================] - 32s 854ms/step - loss: 0.0364 - categorical_accuracy: 0.9958 - val_loss: 0.1045 - val_categorical_accuracy: 0.9818\n"
          ]
        },
        {
          "output_type": "execute_result",
          "data": {
            "text/plain": [
              "<keras.src.callbacks.History at 0x7b5e93ca3430>"
            ]
          },
          "metadata": {},
          "execution_count": 15
        }
      ],
      "source": [
        "model.fit(train_it,\n",
        "          validation_data=valid_it,\n",
        "          steps_per_epoch=train_it.samples/train_it.batch_size,\n",
        "          validation_steps=valid_it.samples/valid_it.batch_size,\n",
        "          epochs=15)"
      ]
    },
    {
      "cell_type": "markdown",
      "metadata": {
        "id": "LTTtclVtpcXO"
      },
      "source": [
        "## Evaluate the Model"
      ]
    },
    {
      "cell_type": "markdown",
      "metadata": {
        "id": "Ri8Fgz2spcXO"
      },
      "source": [
        "Hopefully, you now have a model that has a validation accuracy of 92% or higher. If not, you may want to go back and either run more epochs of training, or adjust your data augmentation.\n",
        "\n",
        "Once you are satisfied with the validation accuracy, evaluate the model by executing the following cell. The evaluate function will return a tuple, where the first value is your loss, and the second value is your accuracy. To pass, the model will need have an accuracy value of `92% or higher`."
      ]
    },
    {
      "cell_type": "code",
      "execution_count": null,
      "metadata": {
        "id": "h8x_h2_ZpcXO",
        "colab": {
          "base_uri": "https://localhost:8080/"
        },
        "outputId": "b6116b99-6a25-417a-baeb-00517042237c"
      },
      "outputs": [
        {
          "output_type": "stream",
          "name": "stdout",
          "text": [
            "10/10 [==============================] - 3s 283ms/step - loss: 0.1045 - categorical_accuracy: 0.9818\n"
          ]
        },
        {
          "output_type": "execute_result",
          "data": {
            "text/plain": [
              "[0.10454504936933517, 0.9817629456520081]"
            ]
          },
          "metadata": {},
          "execution_count": 16
        }
      ],
      "source": [
        "model.evaluate(valid_it, steps=valid_it.samples/valid_it.batch_size)"
      ]
    },
    {
      "cell_type": "markdown",
      "source": [
        "# Examining the Predictions\n",
        "\n",
        "Now that we have a well-trained model, let's test the model prediction with images from the internet, representing the 06 fruit classes."
      ],
      "metadata": {
        "id": "SumY0RU_37qj"
      }
    },
    {
      "cell_type": "code",
      "source": [
        "import matplotlib.pyplot as plt\n",
        "import matplotlib.image as mpimg\n",
        "from tensorflow.keras.preprocessing import image as image_utils\n",
        "from tensorflow.keras.applications.imagenet_utils import preprocess_input\n",
        "\n",
        "labels = ['fresh apple','fresh banana','fresh orange','rotten apple','rotten banana','rotten orange']\n",
        "\n",
        "def show_image(image_path):\n",
        "    image = mpimg.imread(image_path)\n",
        "    plt.imshow(image)\n",
        "\n",
        "def make_predictions(image_path):\n",
        "    show_image(image_path)\n",
        "    image = image_utils.load_img(image_path, target_size=(224, 224))\n",
        "    image = image_utils.img_to_array(image)\n",
        "    image = image.reshape(1,224,224,3)\n",
        "    image = preprocess_input(image)\n",
        "    preds = model.predict(image)\n",
        "    return preds"
      ],
      "metadata": {
        "id": "rayKRdBs3_Vo"
      },
      "execution_count": null,
      "outputs": []
    },
    {
      "cell_type": "code",
      "source": [
        "result = make_predictions('data/fruits/test/apple_rotten.jpeg')\n",
        "class_result = result.argmax()\n",
        "score_result = result[0][class_result]"
      ],
      "metadata": {
        "colab": {
          "base_uri": "https://localhost:8080/",
          "height": 451
        },
        "id": "6UFcGLg04Gpg",
        "outputId": "5bc9925e-264b-49ae-dc2d-802c039ccaee"
      },
      "execution_count": null,
      "outputs": [
        {
          "output_type": "stream",
          "name": "stdout",
          "text": [
            "1/1 [==============================] - 1s 1s/step\n"
          ]
        },
        {
          "output_type": "display_data",
          "data": {
            "text/plain": [
              "<Figure size 640x480 with 1 Axes>"
            ],
            "image/png": "[encoded data removed]"
          },
          "metadata": {}
        }
      ]
    },
    {
      "cell_type": "code",
      "source": [
        "print(f\"Result: {labels[class_result]} (Score: {score_result:.2f})\")"
      ],
      "metadata": {
        "colab": {
          "base_uri": "https://localhost:8080/"
        },
        "id": "wFefz1bPGFRC",
        "outputId": "fdc5af71-0519-4235-fdf7-a710f45b64f7"
      },
      "execution_count": null,
      "outputs": [
        {
          "output_type": "stream",
          "name": "stdout",
          "text": [
            "Result: rotten apple (Score: 1.00)\n"
          ]
        }
      ]
    },
    {
      "cell_type": "code",
      "source": [
        "print(f\"Score: {score_result:.2f}\")"
      ],
      "metadata": {
        "colab": {
          "base_uri": "https://localhost:8080/"
        },
        "id": "wr7Tc0rPGJSo",
        "outputId": "664fbac5-eec9-4d4b-b374-9bc8103bc7fb"
      },
      "execution_count": null,
      "outputs": [
        {
          "output_type": "stream",
          "name": "stdout",
          "text": [
            "Score: 1.00\n"
          ]
        }
      ]
    }
  ],
  "metadata": {
    "accelerator": "GPU",
    "colab": {
      "machine_shape": "hm",
      "provenance": [],
      "include_colab_link": true
    },
    "kernelspec": {
      "display_name": "Python 3",
      "language": "python",
      "name": "python3"
    },
    "language_info": {
      "codemirror_mode": {
        "name": "ipython",
        "version": 3
      },
      "file_extension": ".py",
      "mimetype": "text/x-python",
      "name": "python",
      "nbconvert_exporter": "python",
      "pygments_lexer": "ipython3",
      "version": "3.6.9"
    }
  },
  "nbformat": 4,
  "nbformat_minor": 0
}