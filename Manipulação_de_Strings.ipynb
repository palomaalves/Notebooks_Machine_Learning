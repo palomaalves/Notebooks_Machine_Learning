{
  "nbformat": 4,
  "nbformat_minor": 0,
  "metadata": {
    "colab": {
      "name": "Manipulação de Strings.ipynb",
      "provenance": [],
      "collapsed_sections": [],
      "include_colab_link": true
    },
    "kernelspec": {
      "name": "python3",
      "display_name": "Python 3"
    }
  },
  "cells": [
    {
      "cell_type": "markdown",
      "metadata": {
        "id": "view-in-github",
        "colab_type": "text"
      },
      "source": [
        "<a href=\"https://colab.research.google.com/github/palomaalves/Notebooks_Machine_Learning/blob/main/Manipula%C3%A7%C3%A3o_de_Strings.ipynb\" target=\"_parent\"><img src=\"https://colab.research.google.com/assets/colab-badge.svg\" alt=\"Open In Colab\"/></a>"
      ]
    },
    {
      "cell_type": "markdown",
      "metadata": {
        "id": "eJbkoKIhVtuf"
      },
      "source": [
        "# Manipulação de strings"
      ]
    },
    {
      "cell_type": "code",
      "metadata": {
        "id": "TspZ9SRGqF1l",
        "colab": {
          "base_uri": "https://localhost:8080/"
        },
        "outputId": "3dc2cb60-6f52-4e3d-87b0-fd3f09090aa8"
      },
      "source": [
        "a = 'casaco'\n",
        "print(a)"
      ],
      "execution_count": 1,
      "outputs": [
        {
          "output_type": "stream",
          "name": "stdout",
          "text": [
            "casaco\n"
          ]
        }
      ]
    },
    {
      "cell_type": "code",
      "metadata": {
        "id": "ECcuB0rPqNLV",
        "colab": {
          "base_uri": "https://localhost:8080/"
        },
        "outputId": "bdbbf8d0-cecb-4ed6-9f92-f7adb3c02b50"
      },
      "source": [
        "maiuscula = a.upper()\n",
        "print(maiuscula)"
      ],
      "execution_count": 2,
      "outputs": [
        {
          "output_type": "stream",
          "name": "stdout",
          "text": [
            "CASACO\n"
          ]
        }
      ]
    },
    {
      "cell_type": "code",
      "metadata": {
        "id": "Y7ew8u5nqa0s",
        "colab": {
          "base_uri": "https://localhost:8080/"
        },
        "outputId": "aeec7e84-583e-442d-c55c-1f4b5a8bd281"
      },
      "source": [
        "minuscula = maiuscula.lower()\n",
        "print(minuscula)"
      ],
      "execution_count": 4,
      "outputs": [
        {
          "output_type": "stream",
          "name": "stdout",
          "text": [
            "casaco\n"
          ]
        }
      ]
    },
    {
      "cell_type": "code",
      "metadata": {
        "id": "_n4eG1K3qjIG",
        "colab": {
          "base_uri": "https://localhost:8080/"
        },
        "outputId": "86f007ac-f58b-4d87-cf0b-81cc43c5e294"
      },
      "source": [
        "capital = a.capitalize()\n",
        "print(capital)"
      ],
      "execution_count": 5,
      "outputs": [
        {
          "output_type": "stream",
          "name": "stdout",
          "text": [
            "Casaco\n"
          ]
        }
      ]
    },
    {
      "cell_type": "code",
      "metadata": {
        "id": "7cb8yYi_qukU",
        "colab": {
          "base_uri": "https://localhost:8080/"
        },
        "outputId": "5f6834d8-3f28-429c-ec64-cd64d401855a"
      },
      "source": [
        "metade_palavra = a[0:4]\n",
        "print(metade_palavra)"
      ],
      "execution_count": 6,
      "outputs": [
        {
          "output_type": "stream",
          "name": "stdout",
          "text": [
            "casa\n"
          ]
        }
      ]
    },
    {
      "cell_type": "code",
      "metadata": {
        "id": "M0zabxMJrIfI",
        "colab": {
          "base_uri": "https://localhost:8080/"
        },
        "outputId": "c63ae95e-cb1c-4b3a-a663-1133a5d59ac5"
      },
      "source": [
        "ultimas_letras = a[3:]\n",
        "print(ultimas_letras)"
      ],
      "execution_count": 7,
      "outputs": [
        {
          "output_type": "stream",
          "name": "stdout",
          "text": [
            "aco\n"
          ]
        }
      ]
    },
    {
      "cell_type": "code",
      "metadata": {
        "id": "F4VyXvoWrT1y",
        "colab": {
          "base_uri": "https://localhost:8080/"
        },
        "outputId": "ba28fabe-6c9c-4d0e-e663-d58993b3b187"
      },
      "source": [
        "b = a.replace('aco', 'inha')\n",
        "print(a)\n",
        "print(b)"
      ],
      "execution_count": 8,
      "outputs": [
        {
          "output_type": "stream",
          "name": "stdout",
          "text": [
            "casaco\n",
            "casinha\n"
          ]
        }
      ]
    },
    {
      "cell_type": "code",
      "metadata": {
        "id": "wKLt-VwLrk8F",
        "colab": {
          "base_uri": "https://localhost:8080/"
        },
        "outputId": "57ef5f5e-b330-4ae9-9b2e-a1c14559308b"
      },
      "source": [
        "c = a.replace('o', 'a')\n",
        "print(c)"
      ],
      "execution_count": 9,
      "outputs": [
        {
          "output_type": "stream",
          "name": "stdout",
          "text": [
            "casaca\n"
          ]
        }
      ]
    },
    {
      "cell_type": "code",
      "metadata": {
        "id": "2k0QLQmirwVa",
        "colab": {
          "base_uri": "https://localhost:8080/"
        },
        "outputId": "e86fc60e-cd6a-4a58-956f-bd551bd9d2dc"
      },
      "source": [
        "c.find('s')"
      ],
      "execution_count": 10,
      "outputs": [
        {
          "output_type": "execute_result",
          "data": {
            "text/plain": [
              "2"
            ]
          },
          "metadata": {},
          "execution_count": 10
        }
      ]
    },
    {
      "cell_type": "code",
      "metadata": {
        "id": "4NANRZUyr6Yu",
        "colab": {
          "base_uri": "https://localhost:8080/"
        },
        "outputId": "7ef9e897-9fe2-46fd-adbb-4c9fd4771641"
      },
      "source": [
        "c.find('a')"
      ],
      "execution_count": 11,
      "outputs": [
        {
          "output_type": "execute_result",
          "data": {
            "text/plain": [
              "1"
            ]
          },
          "metadata": {},
          "execution_count": 11
        }
      ]
    },
    {
      "cell_type": "code",
      "metadata": {
        "id": "HKvr0t0Ar_gH",
        "colab": {
          "base_uri": "https://localhost:8080/"
        },
        "outputId": "3eec97bf-04eb-466a-ca4d-bd23606664e6"
      },
      "source": [
        "c.find('b')"
      ],
      "execution_count": 12,
      "outputs": [
        {
          "output_type": "execute_result",
          "data": {
            "text/plain": [
              "-1"
            ]
          },
          "metadata": {},
          "execution_count": 12
        }
      ]
    },
    {
      "cell_type": "code",
      "metadata": {
        "id": "fdYqKZ0bsQoH",
        "colab": {
          "base_uri": "https://localhost:8080/"
        },
        "outputId": "369577e5-9464-4d71-ec67-b6fcdf2d72cd"
      },
      "source": [
        "e = ' casaco '\n",
        "print(len(e))"
      ],
      "execution_count": 13,
      "outputs": [
        {
          "output_type": "stream",
          "name": "stdout",
          "text": [
            "8\n"
          ]
        }
      ]
    },
    {
      "cell_type": "code",
      "metadata": {
        "id": "Hk1OiifYsbwt",
        "colab": {
          "base_uri": "https://localhost:8080/"
        },
        "outputId": "4d938d5c-4249-46b5-c7ee-9e49ecbf757e"
      },
      "source": [
        "f = e.strip()\n",
        "print(f)"
      ],
      "execution_count": 14,
      "outputs": [
        {
          "output_type": "stream",
          "name": "stdout",
          "text": [
            "casaco\n"
          ]
        }
      ]
    },
    {
      "cell_type": "code",
      "metadata": {
        "id": "Kalq5EZAsive",
        "colab": {
          "base_uri": "https://localhost:8080/"
        },
        "outputId": "01aefc85-0d47-4777-ae2a-c0e503295a6b"
      },
      "source": [
        "print(len(f))"
      ],
      "execution_count": 15,
      "outputs": [
        {
          "output_type": "stream",
          "name": "stdout",
          "text": [
            "6\n"
          ]
        }
      ]
    },
    {
      "cell_type": "code",
      "metadata": {
        "id": "dAiQ-Tvvsq5w"
      },
      "source": [
        "n1 = 14\n",
        "n2 = 16"
      ],
      "execution_count": 16,
      "outputs": []
    },
    {
      "cell_type": "code",
      "metadata": {
        "id": "790k0NTEsuiq",
        "colab": {
          "base_uri": "https://localhost:8080/"
        },
        "outputId": "85c75f1b-4ea0-49e7-fc1c-6071bec6fb1f"
      },
      "source": [
        "print(f'Dividindo {n1} por {n2} o resultado é {n1/n2}')"
      ],
      "execution_count": 17,
      "outputs": [
        {
          "output_type": "stream",
          "name": "stdout",
          "text": [
            "Dividindo 14 por 16 o resultado é 0.875\n"
          ]
        }
      ]
    }
  ]
}